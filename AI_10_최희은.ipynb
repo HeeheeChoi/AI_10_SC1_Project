{
  "nbformat": 4,
  "nbformat_minor": 0,
  "metadata": {
    "colab": {
      "name": "Project1.ipynb",
      "provenance": [],
      "collapsed_sections": []
    },
    "kernelspec": {
      "name": "python3",
      "display_name": "Python 3"
    },
    "language_info": {
      "name": "python"
    }
  },
  "cells": [
    {
      "cell_type": "code",
      "execution_count": 2,
      "metadata": {
        "colab": {
          "base_uri": "https://localhost:8080/"
        },
        "id": "xDMgj3obaKXD",
        "outputId": "1886c7c4-a07c-4e8f-86ab-1697c22c8303"
      },
      "outputs": [
        {
          "output_type": "stream",
          "name": "stdout",
          "text": [
            "Mounted at /content/drive\n"
          ]
        }
      ],
      "source": [
        "# google drive에서 데이터 불러오기\n",
        "from google.colab import drive\n",
        "drive.mount('/content/drive')"
      ]
    },
    {
      "cell_type": "code",
      "source": [
        "import pandas as pd\n",
        "\n",
        "dat = pd.read_csv('/content/drive/MyDrive/sample/vgames2.csv')"
      ],
      "metadata": {
        "id": "Y07ceR6iaoyf"
      },
      "execution_count": 3,
      "outputs": []
    },
    {
      "cell_type": "code",
      "source": [
        "# 2중 인덱스 부분 삭제하기\n",
        "\n",
        "dat.drop(['Unnamed: 0'],axis=1,inplace=True)"
      ],
      "metadata": {
        "id": "DTLTBJXSc1sS"
      },
      "execution_count": 4,
      "outputs": []
    },
    {
      "cell_type": "code",
      "source": [
        "dat.tail(10)"
      ],
      "metadata": {
        "colab": {
          "base_uri": "https://localhost:8080/",
          "height": 363
        },
        "id": "8mfWs9hNXkMJ",
        "outputId": "65728667-5580-404f-bf98-b22a20cbdd9c"
      },
      "execution_count": 38,
      "outputs": [
        {
          "output_type": "execute_result",
          "data": {
            "text/html": [
              "<div>\n",
              "<style scoped>\n",
              "    .dataframe tbody tr th:only-of-type {\n",
              "        vertical-align: middle;\n",
              "    }\n",
              "\n",
              "    .dataframe tbody tr th {\n",
              "        vertical-align: top;\n",
              "    }\n",
              "\n",
              "    .dataframe thead th {\n",
              "        text-align: right;\n",
              "    }\n",
              "</style>\n",
              "<table border=\"1\" class=\"dataframe\">\n",
              "  <thead>\n",
              "    <tr style=\"text-align: right;\">\n",
              "      <th></th>\n",
              "      <th>Name</th>\n",
              "      <th>Platform</th>\n",
              "      <th>Year</th>\n",
              "      <th>Genre</th>\n",
              "      <th>Publisher</th>\n",
              "      <th>NA_Sales</th>\n",
              "      <th>EU_Sales</th>\n",
              "      <th>JP_Sales</th>\n",
              "      <th>Other_Sales</th>\n",
              "    </tr>\n",
              "  </thead>\n",
              "  <tbody>\n",
              "    <tr>\n",
              "      <th>16588</th>\n",
              "      <td>MindJack</td>\n",
              "      <td>PS3</td>\n",
              "      <td>2011.0</td>\n",
              "      <td>Shooter</td>\n",
              "      <td>Square Enix</td>\n",
              "      <td>0.07</td>\n",
              "      <td>0.08</td>\n",
              "      <td>0.00</td>\n",
              "      <td>0.03</td>\n",
              "    </tr>\n",
              "    <tr>\n",
              "      <th>16589</th>\n",
              "      <td>Namco Soccer Prime Goal</td>\n",
              "      <td>PS</td>\n",
              "      <td>1995.0</td>\n",
              "      <td>Sports</td>\n",
              "      <td>Sony Computer Entertainment</td>\n",
              "      <td>0.00</td>\n",
              "      <td>0.00</td>\n",
              "      <td>0.12</td>\n",
              "      <td>0.01</td>\n",
              "    </tr>\n",
              "    <tr>\n",
              "      <th>16590</th>\n",
              "      <td>White Album: Tsuzurareru Fuyu no Omoide</td>\n",
              "      <td>PS3</td>\n",
              "      <td>2010.0</td>\n",
              "      <td>Adventure</td>\n",
              "      <td>Aqua Plus</td>\n",
              "      <td>0.00</td>\n",
              "      <td>0.00</td>\n",
              "      <td>0.05</td>\n",
              "      <td>0.00</td>\n",
              "    </tr>\n",
              "    <tr>\n",
              "      <th>16591</th>\n",
              "      <td>Madden NFL 2005</td>\n",
              "      <td>PS2</td>\n",
              "      <td>2004.0</td>\n",
              "      <td>Sports</td>\n",
              "      <td>Electronic Arts</td>\n",
              "      <td>4.18</td>\n",
              "      <td>0.26</td>\n",
              "      <td>0.01</td>\n",
              "      <td>0.08</td>\n",
              "    </tr>\n",
              "    <tr>\n",
              "      <th>16592</th>\n",
              "      <td>Minna no Chizu 2</td>\n",
              "      <td>PSP</td>\n",
              "      <td>2007.0</td>\n",
              "      <td>Misc</td>\n",
              "      <td>Zenrin</td>\n",
              "      <td>0.00</td>\n",
              "      <td>0.00</td>\n",
              "      <td>0.02</td>\n",
              "      <td>0.00</td>\n",
              "    </tr>\n",
              "    <tr>\n",
              "      <th>16593</th>\n",
              "      <td>Ice Age 2: The Meltdown</td>\n",
              "      <td>GC</td>\n",
              "      <td>2006.0</td>\n",
              "      <td>Platform</td>\n",
              "      <td>Vivendi Games</td>\n",
              "      <td>0.15</td>\n",
              "      <td>0.04</td>\n",
              "      <td>0.00</td>\n",
              "      <td>0.01</td>\n",
              "    </tr>\n",
              "    <tr>\n",
              "      <th>16594</th>\n",
              "      <td>Rainbow Islands: Revolution</td>\n",
              "      <td>PSP</td>\n",
              "      <td>2005.0</td>\n",
              "      <td>Action</td>\n",
              "      <td>Rising Star Games</td>\n",
              "      <td>0.01</td>\n",
              "      <td>0.00</td>\n",
              "      <td>0.00</td>\n",
              "      <td>0.00</td>\n",
              "    </tr>\n",
              "    <tr>\n",
              "      <th>16595</th>\n",
              "      <td>NBA 2K16</td>\n",
              "      <td>PS3</td>\n",
              "      <td>2015.0</td>\n",
              "      <td>Sports</td>\n",
              "      <td>Take-Two Interactive</td>\n",
              "      <td>0.44</td>\n",
              "      <td>0.19</td>\n",
              "      <td>0.03</td>\n",
              "      <td>0.13</td>\n",
              "    </tr>\n",
              "    <tr>\n",
              "      <th>16596</th>\n",
              "      <td>Toukiden: The Age of Demons</td>\n",
              "      <td>PSV</td>\n",
              "      <td>2013.0</td>\n",
              "      <td>Action</td>\n",
              "      <td>Tecmo Koei</td>\n",
              "      <td>0.05</td>\n",
              "      <td>0.05</td>\n",
              "      <td>0.25</td>\n",
              "      <td>0.03</td>\n",
              "    </tr>\n",
              "    <tr>\n",
              "      <th>16597</th>\n",
              "      <td>The King of Fighters '95</td>\n",
              "      <td>PS</td>\n",
              "      <td>1996.0</td>\n",
              "      <td>Fighting</td>\n",
              "      <td>Sony Computer Entertainment</td>\n",
              "      <td>0.00</td>\n",
              "      <td>0.00</td>\n",
              "      <td>0.16</td>\n",
              "      <td>0.01</td>\n",
              "    </tr>\n",
              "  </tbody>\n",
              "</table>\n",
              "</div>"
            ],
            "text/plain": [
              "                                          Name Platform  ...  JP_Sales Other_Sales\n",
              "16588                                 MindJack      PS3  ...      0.00        0.03\n",
              "16589                  Namco Soccer Prime Goal       PS  ...      0.12        0.01\n",
              "16590  White Album: Tsuzurareru Fuyu no Omoide      PS3  ...      0.05        0.00\n",
              "16591                          Madden NFL 2005      PS2  ...      0.01        0.08\n",
              "16592                         Minna no Chizu 2      PSP  ...      0.02        0.00\n",
              "16593                  Ice Age 2: The Meltdown       GC  ...      0.00        0.01\n",
              "16594              Rainbow Islands: Revolution      PSP  ...      0.00        0.00\n",
              "16595                                 NBA 2K16      PS3  ...      0.03        0.13\n",
              "16596              Toukiden: The Age of Demons      PSV  ...      0.25        0.03\n",
              "16597                 The King of Fighters '95       PS  ...      0.16        0.01\n",
              "\n",
              "[10 rows x 9 columns]"
            ]
          },
          "metadata": {},
          "execution_count": 38
        }
      ]
    },
    {
      "cell_type": "code",
      "source": [
        "# Year, Genre, Publisher 등 대체하기 어려운 결측치 제거"
      ],
      "metadata": {
        "id": "FSOfHSFqnOk8"
      },
      "execution_count": 6,
      "outputs": []
    },
    {
      "cell_type": "code",
      "source": [
        "dat = dat.dropna(axis=0)\n",
        "dat.isna().sum()"
      ],
      "metadata": {
        "colab": {
          "base_uri": "https://localhost:8080/"
        },
        "id": "Y3vRleRGdPHg",
        "outputId": "e650cf8b-27f8-4b7c-b26e-4c3b519f0360"
      },
      "execution_count": 7,
      "outputs": [
        {
          "output_type": "execute_result",
          "data": {
            "text/plain": [
              "Name           0\n",
              "Platform       0\n",
              "Year           0\n",
              "Genre          0\n",
              "Publisher      0\n",
              "NA_Sales       0\n",
              "EU_Sales       0\n",
              "JP_Sales       0\n",
              "Other_Sales    0\n",
              "dtype: int64"
            ]
          },
          "metadata": {},
          "execution_count": 7
        }
      ]
    },
    {
      "cell_type": "code",
      "source": [
        "dat['Genre'].value_counts()"
      ],
      "metadata": {
        "colab": {
          "base_uri": "https://localhost:8080/"
        },
        "id": "Fl3DPAV0OLk8",
        "outputId": "a87fcba5-6187-4781-8cba-d2f0ca7176ec"
      },
      "execution_count": 8,
      "outputs": [
        {
          "output_type": "execute_result",
          "data": {
            "text/plain": [
              "Action          3240\n",
              "Sports          2299\n",
              "Misc            1681\n",
              "Role-Playing    1465\n",
              "Shooter         1280\n",
              "Adventure       1268\n",
              "Racing          1219\n",
              "Platform         873\n",
              "Simulation       846\n",
              "Fighting         835\n",
              "Strategy         669\n",
              "Puzzle           566\n",
              "Name: Genre, dtype: int64"
            ]
          },
          "metadata": {},
          "execution_count": 8
        }
      ]
    },
    {
      "cell_type": "code",
      "source": [
        "# 출고량의 단위 일관화\n",
        "import re\n",
        "\n",
        "dat['NA_Sales'] = dat['NA_Sales'].apply(lambda x: re.sub('K','e-3',x))\n",
        "dat['NA_Sales'] = dat['NA_Sales'].apply(lambda x : re.sub('M','',x))\n",
        "\n",
        "dat['EU_Sales'] = dat['EU_Sales'].apply(lambda x: re.sub('K','e-3',x))\n",
        "dat['EU_Sales'] = dat['EU_Sales'].apply(lambda x : re.sub('M','',x))\n",
        "\n",
        "dat['JP_Sales'] = dat['JP_Sales'].apply(lambda x: re.sub('K','e-3',x))\n",
        "dat['JP_Sales'] = dat['JP_Sales'].apply(lambda x : re.sub('M','',x))\n",
        "\n",
        "dat['Other_Sales'] = dat['Other_Sales'].apply(lambda x: re.sub('K','e-3',x))\n",
        "dat['Other_Sales'] = dat['Other_Sales'].apply(lambda x : re.sub('M','',x))\n",
        "\n",
        "dat['NA_Sales'] = dat['NA_Sales'].astype(float)\n",
        "dat['EU_Sales'] = dat['EU_Sales'].astype(float)\n",
        "dat['JP_Sales'] = dat['JP_Sales'].astype(float)\n",
        "dat['Other_Sales'] = dat['Other_Sales'].astype(float)"
      ],
      "metadata": {
        "colab": {
          "base_uri": "https://localhost:8080/"
        },
        "id": "RS2pZlSeZbo_",
        "outputId": "8037f9a2-d95a-43e4-d1c2-1faa017c37a1"
      },
      "execution_count": 9,
      "outputs": [
        {
          "output_type": "stream",
          "name": "stderr",
          "text": [
            "/usr/local/lib/python3.7/dist-packages/ipykernel_launcher.py:4: SettingWithCopyWarning: \n",
            "A value is trying to be set on a copy of a slice from a DataFrame.\n",
            "Try using .loc[row_indexer,col_indexer] = value instead\n",
            "\n",
            "See the caveats in the documentation: https://pandas.pydata.org/pandas-docs/stable/user_guide/indexing.html#returning-a-view-versus-a-copy\n",
            "  after removing the cwd from sys.path.\n",
            "/usr/local/lib/python3.7/dist-packages/ipykernel_launcher.py:5: SettingWithCopyWarning: \n",
            "A value is trying to be set on a copy of a slice from a DataFrame.\n",
            "Try using .loc[row_indexer,col_indexer] = value instead\n",
            "\n",
            "See the caveats in the documentation: https://pandas.pydata.org/pandas-docs/stable/user_guide/indexing.html#returning-a-view-versus-a-copy\n",
            "  \"\"\"\n",
            "/usr/local/lib/python3.7/dist-packages/ipykernel_launcher.py:7: SettingWithCopyWarning: \n",
            "A value is trying to be set on a copy of a slice from a DataFrame.\n",
            "Try using .loc[row_indexer,col_indexer] = value instead\n",
            "\n",
            "See the caveats in the documentation: https://pandas.pydata.org/pandas-docs/stable/user_guide/indexing.html#returning-a-view-versus-a-copy\n",
            "  import sys\n",
            "/usr/local/lib/python3.7/dist-packages/ipykernel_launcher.py:8: SettingWithCopyWarning: \n",
            "A value is trying to be set on a copy of a slice from a DataFrame.\n",
            "Try using .loc[row_indexer,col_indexer] = value instead\n",
            "\n",
            "See the caveats in the documentation: https://pandas.pydata.org/pandas-docs/stable/user_guide/indexing.html#returning-a-view-versus-a-copy\n",
            "  \n",
            "/usr/local/lib/python3.7/dist-packages/ipykernel_launcher.py:10: SettingWithCopyWarning: \n",
            "A value is trying to be set on a copy of a slice from a DataFrame.\n",
            "Try using .loc[row_indexer,col_indexer] = value instead\n",
            "\n",
            "See the caveats in the documentation: https://pandas.pydata.org/pandas-docs/stable/user_guide/indexing.html#returning-a-view-versus-a-copy\n",
            "  # Remove the CWD from sys.path while we load stuff.\n",
            "/usr/local/lib/python3.7/dist-packages/ipykernel_launcher.py:11: SettingWithCopyWarning: \n",
            "A value is trying to be set on a copy of a slice from a DataFrame.\n",
            "Try using .loc[row_indexer,col_indexer] = value instead\n",
            "\n",
            "See the caveats in the documentation: https://pandas.pydata.org/pandas-docs/stable/user_guide/indexing.html#returning-a-view-versus-a-copy\n",
            "  # This is added back by InteractiveShellApp.init_path()\n"
          ]
        }
      ]
    },
    {
      "cell_type": "code",
      "source": [
        "# 지역별 출고량만 따로 추출 및 장르 추출\n",
        "\n",
        "df = dat.iloc[:,5:]\n",
        "\n",
        "#df['Genre'] = dat['Genre']\n",
        "df = df.set_index(dat['Genre'])"
      ],
      "metadata": {
        "id": "j107tarBfeWv"
      },
      "execution_count": 10,
      "outputs": []
    },
    {
      "cell_type": "code",
      "source": [
        "#df[df['EU_Sales'].str.contains('K')]"
      ],
      "metadata": {
        "id": "UCV2h3cGaN1i"
      },
      "execution_count": 11,
      "outputs": []
    },
    {
      "cell_type": "code",
      "source": [
        "#dat[dat['EU_Sales'].str.contains('M')]"
      ],
      "metadata": {
        "id": "dfMElHjCcG5F"
      },
      "execution_count": 12,
      "outputs": []
    },
    {
      "cell_type": "code",
      "source": [
        "df"
      ],
      "metadata": {
        "colab": {
          "base_uri": "https://localhost:8080/",
          "height": 455
        },
        "id": "ia3WzZEFnztg",
        "outputId": "b70b1175-3362-4f93-ebc9-b3f033f66225"
      },
      "execution_count": 13,
      "outputs": [
        {
          "output_type": "execute_result",
          "data": {
            "text/html": [
              "<div>\n",
              "<style scoped>\n",
              "    .dataframe tbody tr th:only-of-type {\n",
              "        vertical-align: middle;\n",
              "    }\n",
              "\n",
              "    .dataframe tbody tr th {\n",
              "        vertical-align: top;\n",
              "    }\n",
              "\n",
              "    .dataframe thead th {\n",
              "        text-align: right;\n",
              "    }\n",
              "</style>\n",
              "<table border=\"1\" class=\"dataframe\">\n",
              "  <thead>\n",
              "    <tr style=\"text-align: right;\">\n",
              "      <th></th>\n",
              "      <th>NA_Sales</th>\n",
              "      <th>EU_Sales</th>\n",
              "      <th>JP_Sales</th>\n",
              "      <th>Other_Sales</th>\n",
              "    </tr>\n",
              "    <tr>\n",
              "      <th>Genre</th>\n",
              "      <th></th>\n",
              "      <th></th>\n",
              "      <th></th>\n",
              "      <th></th>\n",
              "    </tr>\n",
              "  </thead>\n",
              "  <tbody>\n",
              "    <tr>\n",
              "      <th>Action</th>\n",
              "      <td>0.04</td>\n",
              "      <td>0.00</td>\n",
              "      <td>0.00</td>\n",
              "      <td>0.00</td>\n",
              "    </tr>\n",
              "    <tr>\n",
              "      <th>Action</th>\n",
              "      <td>0.17</td>\n",
              "      <td>0.00</td>\n",
              "      <td>0.00</td>\n",
              "      <td>0.01</td>\n",
              "    </tr>\n",
              "    <tr>\n",
              "      <th>Adventure</th>\n",
              "      <td>0.00</td>\n",
              "      <td>0.00</td>\n",
              "      <td>0.02</td>\n",
              "      <td>0.00</td>\n",
              "    </tr>\n",
              "    <tr>\n",
              "      <th>Misc</th>\n",
              "      <td>0.04</td>\n",
              "      <td>0.00</td>\n",
              "      <td>0.00</td>\n",
              "      <td>0.00</td>\n",
              "    </tr>\n",
              "    <tr>\n",
              "      <th>Platform</th>\n",
              "      <td>0.12</td>\n",
              "      <td>0.09</td>\n",
              "      <td>0.00</td>\n",
              "      <td>0.04</td>\n",
              "    </tr>\n",
              "    <tr>\n",
              "      <th>...</th>\n",
              "      <td>...</td>\n",
              "      <td>...</td>\n",
              "      <td>...</td>\n",
              "      <td>...</td>\n",
              "    </tr>\n",
              "    <tr>\n",
              "      <th>Platform</th>\n",
              "      <td>0.15</td>\n",
              "      <td>0.04</td>\n",
              "      <td>0.00</td>\n",
              "      <td>0.01</td>\n",
              "    </tr>\n",
              "    <tr>\n",
              "      <th>Action</th>\n",
              "      <td>0.01</td>\n",
              "      <td>0.00</td>\n",
              "      <td>0.00</td>\n",
              "      <td>0.00</td>\n",
              "    </tr>\n",
              "    <tr>\n",
              "      <th>Sports</th>\n",
              "      <td>0.44</td>\n",
              "      <td>0.19</td>\n",
              "      <td>0.03</td>\n",
              "      <td>0.13</td>\n",
              "    </tr>\n",
              "    <tr>\n",
              "      <th>Action</th>\n",
              "      <td>0.05</td>\n",
              "      <td>0.05</td>\n",
              "      <td>0.25</td>\n",
              "      <td>0.03</td>\n",
              "    </tr>\n",
              "    <tr>\n",
              "      <th>Fighting</th>\n",
              "      <td>0.00</td>\n",
              "      <td>0.00</td>\n",
              "      <td>0.16</td>\n",
              "      <td>0.01</td>\n",
              "    </tr>\n",
              "  </tbody>\n",
              "</table>\n",
              "<p>16241 rows × 4 columns</p>\n",
              "</div>"
            ],
            "text/plain": [
              "           NA_Sales  EU_Sales  JP_Sales  Other_Sales\n",
              "Genre                                               \n",
              "Action         0.04      0.00      0.00         0.00\n",
              "Action         0.17      0.00      0.00         0.01\n",
              "Adventure      0.00      0.00      0.02         0.00\n",
              "Misc           0.04      0.00      0.00         0.00\n",
              "Platform       0.12      0.09      0.00         0.04\n",
              "...             ...       ...       ...          ...\n",
              "Platform       0.15      0.04      0.00         0.01\n",
              "Action         0.01      0.00      0.00         0.00\n",
              "Sports         0.44      0.19      0.03         0.13\n",
              "Action         0.05      0.05      0.25         0.03\n",
              "Fighting       0.00      0.00      0.16         0.01\n",
              "\n",
              "[16241 rows x 4 columns]"
            ]
          },
          "metadata": {},
          "execution_count": 13
        }
      ]
    },
    {
      "cell_type": "code",
      "source": [
        "df.dtypes"
      ],
      "metadata": {
        "colab": {
          "base_uri": "https://localhost:8080/"
        },
        "id": "-xt9OVw8ktVg",
        "outputId": "6d1610d6-69da-498b-9dbc-8a938f2710c5"
      },
      "execution_count": 14,
      "outputs": [
        {
          "output_type": "execute_result",
          "data": {
            "text/plain": [
              "NA_Sales       float64\n",
              "EU_Sales       float64\n",
              "JP_Sales       float64\n",
              "Other_Sales    float64\n",
              "dtype: object"
            ]
          },
          "metadata": {},
          "execution_count": 14
        }
      ]
    },
    {
      "cell_type": "code",
      "source": [
        "# 게임 장르라는 테마별로 지역별 평균 출고량을 'rank'라는 변수에 데이터프레임 형태로 추출\n",
        "rank = df.groupby(['Genre']).mean()\n",
        "rank = pd.DataFrame(rank)"
      ],
      "metadata": {
        "id": "axMMVWHy_CXz"
      },
      "execution_count": 15,
      "outputs": []
    },
    {
      "cell_type": "code",
      "source": [
        "#rank.sort_values(by=['NA_Sales'], axis=0, ascending=False)"
      ],
      "metadata": {
        "id": "6QLKYVrolAVI"
      },
      "execution_count": 16,
      "outputs": []
    },
    {
      "cell_type": "code",
      "source": [
        "# H0 : 지역과 게임 장르는 서로 연관이 있다\n",
        "from scipy.stats import chi2_contingency\n",
        "\n",
        "chi2_contingency(rank, correction=False)\n",
        "print('chisquare 값 ',chi2_contingency(rank, correction=False)[0],\n",
        "      'p-value 값 ',chi2_contingency(rank, correction=False)[1])\n",
        "#chisquare 값, p-value 값, df값, 기대치 배열"
      ],
      "metadata": {
        "colab": {
          "base_uri": "https://localhost:8080/"
        },
        "id": "VcyyDJ1NEBne",
        "outputId": "f681b843-9d47-4b3d-c5ea-b5bdb763704e"
      },
      "execution_count": 37,
      "outputs": [
        {
          "output_type": "stream",
          "name": "stdout",
          "text": [
            "chisquare 값  0.4703646308851137 p-value 값  1.0\n"
          ]
        }
      ]
    },
    {
      "cell_type": "markdown",
      "source": [
        "# Q. 지역과 게임 장르가 서로 연관이 있다?\n",
        "\n",
        "**A.지역별 선호하는 게임의 장르가 유의미하게 존재한다.**\n",
        "\n",
        "지역과 게임 장르 간 'Two Sample Chi Square Test'(두 표본의 연관성 가설 검정)를 진행한 결과, 귀무가설(지역과 게임 장르는 서로 연관이 있다)의 p_value값이 1.0이 나오면서  유의수준인 0.05를 넘었고,\n",
        "**이는 지역과 게임 장르 간 서로 연관이 있다 라는 가정이 유의미하다**고 볼 수 있다. \n"
      ],
      "metadata": {
        "id": "JuLvQZS1RSie"
      }
    },
    {
      "cell_type": "code",
      "source": [
        "# Q . 연도별 게임 트렌드가 있을까?(=연도와 게임 장르가 연관이 있다.)"
      ],
      "metadata": {
        "id": "YtEd8cW1ANZX"
      },
      "execution_count": 18,
      "outputs": []
    },
    {
      "cell_type": "code",
      "source": [
        "# 'Year' 항목을 따로 추출하여 데이터 프레임화\n",
        "df2 = dat.iloc[:,2:4]"
      ],
      "metadata": {
        "id": "tWf0wS_EAUgl"
      },
      "execution_count": 19,
      "outputs": []
    },
    {
      "cell_type": "code",
      "source": [
        "df2['Year'] = df2['Year'].astype(int)"
      ],
      "metadata": {
        "id": "lSfpMK1iQ0wt"
      },
      "execution_count": 20,
      "outputs": []
    },
    {
      "cell_type": "code",
      "source": [
        "def year_comp(x):\n",
        "  if  x < 20:\n",
        "   return 2000+x\n",
        "  elif 20<x & x<99:\n",
        "    return 1900+x\n",
        "  else :\n",
        "    return x\n",
        "\n",
        "df2['Year'] = df2['Year'].apply(year_comp)"
      ],
      "metadata": {
        "id": "rZE8QZc0QJ0B"
      },
      "execution_count": 21,
      "outputs": []
    },
    {
      "cell_type": "code",
      "source": [
        "# 연도별 오름차순 정리\n",
        "df2.sort_values(by='Year').head(10)"
      ],
      "metadata": {
        "colab": {
          "base_uri": "https://localhost:8080/",
          "height": 363
        },
        "id": "qZql0YKArfgm",
        "outputId": "aa6f5c15-3de1-4fb8-a205-042cc51496ae"
      },
      "execution_count": 22,
      "outputs": [
        {
          "output_type": "execute_result",
          "data": {
            "text/html": [
              "<div>\n",
              "<style scoped>\n",
              "    .dataframe tbody tr th:only-of-type {\n",
              "        vertical-align: middle;\n",
              "    }\n",
              "\n",
              "    .dataframe tbody tr th {\n",
              "        vertical-align: top;\n",
              "    }\n",
              "\n",
              "    .dataframe thead th {\n",
              "        text-align: right;\n",
              "    }\n",
              "</style>\n",
              "<table border=\"1\" class=\"dataframe\">\n",
              "  <thead>\n",
              "    <tr style=\"text-align: right;\">\n",
              "      <th></th>\n",
              "      <th>Year</th>\n",
              "      <th>Genre</th>\n",
              "    </tr>\n",
              "  </thead>\n",
              "  <tbody>\n",
              "    <tr>\n",
              "      <th>14264</th>\n",
              "      <td>1980</td>\n",
              "      <td>Fighting</td>\n",
              "    </tr>\n",
              "    <tr>\n",
              "      <th>5723</th>\n",
              "      <td>1980</td>\n",
              "      <td>Shooter</td>\n",
              "    </tr>\n",
              "    <tr>\n",
              "      <th>15012</th>\n",
              "      <td>1980</td>\n",
              "      <td>Shooter</td>\n",
              "    </tr>\n",
              "    <tr>\n",
              "      <th>9226</th>\n",
              "      <td>1980</td>\n",
              "      <td>Misc</td>\n",
              "    </tr>\n",
              "    <tr>\n",
              "      <th>13133</th>\n",
              "      <td>1980</td>\n",
              "      <td>Action</td>\n",
              "    </tr>\n",
              "    <tr>\n",
              "      <th>10121</th>\n",
              "      <td>1980</td>\n",
              "      <td>Misc</td>\n",
              "    </tr>\n",
              "    <tr>\n",
              "      <th>7317</th>\n",
              "      <td>1980</td>\n",
              "      <td>Misc</td>\n",
              "    </tr>\n",
              "    <tr>\n",
              "      <th>5938</th>\n",
              "      <td>1980</td>\n",
              "      <td>Misc</td>\n",
              "    </tr>\n",
              "    <tr>\n",
              "      <th>1060</th>\n",
              "      <td>1981</td>\n",
              "      <td>Action</td>\n",
              "    </tr>\n",
              "    <tr>\n",
              "      <th>1308</th>\n",
              "      <td>1981</td>\n",
              "      <td>Action</td>\n",
              "    </tr>\n",
              "  </tbody>\n",
              "</table>\n",
              "</div>"
            ],
            "text/plain": [
              "       Year     Genre\n",
              "14264  1980  Fighting\n",
              "5723   1980   Shooter\n",
              "15012  1980   Shooter\n",
              "9226   1980      Misc\n",
              "13133  1980    Action\n",
              "10121  1980      Misc\n",
              "7317   1980      Misc\n",
              "5938   1980      Misc\n",
              "1060   1981    Action\n",
              "1308   1981    Action"
            ]
          },
          "metadata": {},
          "execution_count": 22
        }
      ]
    },
    {
      "cell_type": "code",
      "source": [
        "obs1 = pd.crosstab(df2['Year'],df2['Genre'])"
      ],
      "metadata": {
        "id": "wXqdljs515BQ"
      },
      "execution_count": 23,
      "outputs": []
    },
    {
      "cell_type": "code",
      "source": [
        "from scipy.stats import chi2_contingency\n",
        "\n",
        "chi2_contingency(obs1, correction=False)\n",
        "print('chisquare 값 ',chi2_contingency(obs1, correction=False)[0],\n",
        "      'p-value 값 ',chi2_contingency(obs1, correction=False)[1])"
      ],
      "metadata": {
        "colab": {
          "base_uri": "https://localhost:8080/"
        },
        "id": "e0tUpwmUrytH",
        "outputId": "ae2b2fdc-4e39-4626-fafc-7ed12420e4ed"
      },
      "execution_count": 24,
      "outputs": [
        {
          "output_type": "stream",
          "name": "stdout",
          "text": [
            "chisquare 값  2763.3426220442343 p-value 값  0.0\n"
          ]
        }
      ]
    },
    {
      "cell_type": "markdown",
      "source": [
        "# Q. 연도와 게임 장르 간 연관이 있다?\n",
        "**A.연도에 따른 게임 트렌드는 유의미하게 존재하지않는다**\n",
        "\n",
        "연도와 게임 장르 간 'Two Sample Chi Square Test'(두 표본의 연관성 가설 검정)를 진행한 결과,\n",
        "귀무가설(연도와 게임 장르는 서로 연관이 있다)의 p_value값이 0.0이 나오면서 유의수준인 0.05에 못미치는 수준이 나왔고, 이는 **연도와 게임 장르 간 서로 연관이 있다 라는 가정이 유의미하지 않다고** 볼 수 있다."
      ],
      "metadata": {
        "id": "HqR3rACbB1VS"
      }
    },
    {
      "cell_type": "markdown",
      "source": [
        "결론적으로 지역과 게임 장르 간 연관성은 유의미하다고 판단되었으므로 지역 별 군집화를 시행하였을때 가장 큰 영향을 끼치는 지역의 수(k값)를 파악하고, 해당 지역의 출고량에 따른 선호 장르를 파악한 후 해당 장르에 해당하는 게임들 중 선호도가 높은 게임 플랫폼을 추정한다. 마지막으로 분석해 낸 게임 장르와 플랫폼으로 특정된 게임 회사들을 북미 지역을 대상으로 비교하여 게임 회사를 선정한다."
      ],
      "metadata": {
        "id": "H-59USyxLFwz"
      }
    },
    {
      "cell_type": "code",
      "source": [
        "# 영향력 있는 지역 군집의 갯수 k 값 찾기 : k = 1"
      ],
      "metadata": {
        "id": "L_7AknF6MQuD"
      },
      "execution_count": 25,
      "outputs": []
    },
    {
      "cell_type": "code",
      "source": [
        "from sklearn.cluster import KMeans\n",
        "import matplotlib.pyplot as plt\n",
        "# 적절한 군집수 찾기\n",
        "# Inertia(군집 내 거리제곱합의 합) value (적정 군집수)\n",
        "\n",
        "ks = range(1,10)\n",
        "inertias = []\n",
        "\n",
        "for k in ks:\n",
        "    model = KMeans(n_clusters=k)\n",
        "    model.fit(df)\n",
        "    inertias.append(model.inertia_)\n",
        "\n",
        "# Plot ks vs inertias\n",
        "plt.figure(figsize=(6, 6))\n",
        "\n",
        "plt.plot(ks, inertias, '-o')\n",
        "plt.xlabel('number of Region')\n",
        "plt.ylabel('Impact')\n",
        "plt.xticks(ks)\n",
        "plt.show()\n"
      ],
      "metadata": {
        "colab": {
          "base_uri": "https://localhost:8080/",
          "height": 391
        },
        "id": "rRVY33Q_MLoK",
        "outputId": "78fb676a-8b1a-4bc1-891f-f5628dcdb12a"
      },
      "execution_count": 26,
      "outputs": [
        {
          "output_type": "display_data",
          "data": {
            "image/png": "[encoded data removed]",
            "text/plain": [
              "<Figure size 432x432 with 1 Axes>"
            ]
          },
          "metadata": {
            "needs_background": "light"
          }
        }
      ]
    },
    {
      "cell_type": "code",
      "source": [
        "df.sum() #출고량의 총 합산 결과 : 북미 지역이 가장 큰 시장 = k의 대상 지역"
      ],
      "metadata": {
        "colab": {
          "base_uri": "https://localhost:8080/"
        },
        "id": "eflsN3aSOhWD",
        "outputId": "3f0d5426-d70c-476e-92ed-53a1141a69b1"
      },
      "execution_count": 27,
      "outputs": [
        {
          "output_type": "execute_result",
          "data": {
            "text/plain": [
              "NA_Sales       4307.04\n",
              "EU_Sales       2393.57\n",
              "JP_Sales       1271.39\n",
              "Other_Sales     783.37\n",
              "dtype: float64"
            ]
          },
          "metadata": {},
          "execution_count": 27
        }
      ]
    },
    {
      "cell_type": "code",
      "source": [
        "rank = rank.sort_values(by=['NA_Sales'], axis=0, ascending=False)"
      ],
      "metadata": {
        "id": "A9rs2rFid8y1"
      },
      "execution_count": 28,
      "outputs": []
    },
    {
      "cell_type": "code",
      "source": [
        "# 북미 지역에서의 가장 출고량이 높은 게임의 장르\n",
        "from matplotlib import pyplot as plt\n",
        "import seaborn as sns\n",
        "\n",
        "plt.figure(figsize=(10, 7))\n",
        "plt.xticks(rotation =  45 )\n",
        "plt.title('Game Genre of North America')\n",
        "sns.barplot(data=rank,\n",
        "            x= rank.index,\n",
        "            y='NA_Sales'\n",
        "            )\n"
      ],
      "metadata": {
        "colab": {
          "base_uri": "https://localhost:8080/",
          "height": 518
        },
        "id": "zYG3AuaFKTY7",
        "outputId": "283b2c2e-bd02-4e7c-ac94-c26a2b1a377b"
      },
      "execution_count": 39,
      "outputs": [
        {
          "output_type": "execute_result",
          "data": {
            "text/plain": [
              "<matplotlib.axes._subplots.AxesSubplot at 0x7f9c7e95bfd0>"
            ]
          },
          "metadata": {},
          "execution_count": 39
        },
        {
          "output_type": "display_data",
          "data": {
            "image/png": "[encoded data removed]",
            "text/plain": [
              "<Figure size 720x504 with 1 Axes>"
            ]
          },
          "metadata": {
            "needs_background": "light"
          }
        }
      ]
    },
    {
      "cell_type": "code",
      "source": [
        "# 북미 지역에서의 가장 출고량이 높은 게임 플랫폼\n",
        "pl = dat.loc[:,['Platform','NA_Sales']]\n",
        "pl = pd.DataFrame(pl)\n",
        "pl = pl.groupby(['Platform']).count()\n",
        "pl = pl.sort_values(by=['NA_Sales'], axis=0, ascending=False)\n",
        "pl_top = pl.iloc[0:11]\n",
        "\n",
        "\n",
        "plt.figure(figsize=(10, 7))\n",
        "plt.xticks(rotation =  45 )\n",
        "plt.title('Game Platform of North America')\n",
        "sns.barplot(data=pl_top,\n",
        "            x= pl_top.index,\n",
        "            y= 'NA_Sales'\n",
        "            )"
      ],
      "metadata": {
        "colab": {
          "base_uri": "https://localhost:8080/",
          "height": 493
        },
        "id": "X-W3zBvil9se",
        "outputId": "40ccd3b2-f077-4743-ee73-90a8914b473c"
      },
      "execution_count": 40,
      "outputs": [
        {
          "output_type": "execute_result",
          "data": {
            "text/plain": [
              "<matplotlib.axes._subplots.AxesSubplot at 0x7f9c7e8c1590>"
            ]
          },
          "metadata": {},
          "execution_count": 40
        },
        {
          "output_type": "display_data",
          "data": {
            "image/png": "[encoded data removed]",
            "text/plain": [
              "<Figure size 720x504 with 1 Axes>"
            ]
          },
          "metadata": {
            "needs_background": "light"
          }
        }
      ]
    },
    {
      "cell_type": "code",
      "source": [
        "cond = (dat['Genre'] == 'Platform') & ((dat['Platform']=='DS')|(dat['Platform']=='PS2'))\n",
        "fin_pb = pd.DataFrame(dat[cond][['NA_Sales','Publisher']])\n",
        "fin_pb = fin_pb.groupby(['Publisher']).count()\n",
        "fin_pb = fin_pb.sort_values(by=['NA_Sales'], axis=0, ascending=False).iloc[0:11]\n",
        "fin_pb #북미 지역을 대상으로 도출한 Platform 장르의 DS 또는 PS2 플랫폼을 이용하는 게임 회사들의 출고 순위\n",
        "\n",
        "fin = fin_pb.iloc[0:5]\n",
        "plt.figure(figsize=(10, 5))\n",
        "plt.xticks(rotation =  45 )\n",
        "plt.title('Game Publisher of North America(TOP5)')\n",
        "sns.barplot(data=fin,\n",
        "            x= fin.index,\n",
        "            y= 'NA_Sales'\n",
        "            )"
      ],
      "metadata": {
        "colab": {
          "base_uri": "https://localhost:8080/",
          "height": 473
        },
        "id": "zq0J3lzwmPPG",
        "outputId": "1c436309-776c-4702-deb6-457d3a14069e"
      },
      "execution_count": 31,
      "outputs": [
        {
          "output_type": "execute_result",
          "data": {
            "text/plain": [
              "<matplotlib.axes._subplots.AxesSubplot at 0x7f9c7df70dd0>"
            ]
          },
          "metadata": {},
          "execution_count": 31
        },
        {
          "output_type": "display_data",
          "data": {
            "image/png": "[encoded data removed]",
            "text/plain": [
              "<Figure size 720x360 with 1 Axes>"
            ]
          },
          "metadata": {
            "needs_background": "light"
          }
        }
      ]
    },
    {
      "cell_type": "markdown",
      "source": [
        "# ⬆ 북미 지역을 대상으로 도출한 Platform 장르의 DS 또는 PS2 플랫폼을 이용하는 게임 회사들의 출고 순위 TOP5"
      ],
      "metadata": {
        "id": "XNHliUbGmWhw"
      }
    },
    {
      "cell_type": "code",
      "source": [
        "#pb = dat.loc[:,['Publisher','NA_Sales']]\n",
        "#pb = pd.DataFrame(pb)\n",
        "#pb = pb.groupby(['Publisher']).count()"
      ],
      "metadata": {
        "id": "gHf3ln8gTk0c"
      },
      "execution_count": 32,
      "outputs": []
    },
    {
      "cell_type": "code",
      "source": [
        "#pb = pb.sort_values(by=['NA_Sales'], axis=0, ascending=False)"
      ],
      "metadata": {
        "id": "DrDzZFo4bBEp"
      },
      "execution_count": 33,
      "outputs": []
    },
    {
      "cell_type": "code",
      "source": [
        "#pb_top = pb.iloc[0:11]"
      ],
      "metadata": {
        "id": "KCJDjktfT4Sd"
      },
      "execution_count": 34,
      "outputs": []
    },
    {
      "cell_type": "code",
      "source": [
        "#pb_top"
      ],
      "metadata": {
        "id": "II6gboNZcKk3"
      },
      "execution_count": 35,
      "outputs": []
    },
    {
      "cell_type": "code",
      "source": [
        "# 북미 지역에서의 가장 출고량이 높은 게임 회사\n",
        "#from matplotlib import pyplot as plt\n",
        "#import seaborn as sns\n",
        "\n",
        "#plt.figure(figsize=(20, 7))\n",
        "#plt.xticks(rotation =  45 )\n",
        "#plt.title('Game Publisher of North America')\n",
        "#sns.barplot(data=pb_top,\n",
        "#            x= pb_top.index,\n",
        "#            y= 'NA_Sales'\n",
        "#            )\n"
      ],
      "metadata": {
        "id": "OUTTR-gjRxsH"
      },
      "execution_count": 36,
      "outputs": []
    }
  ]
}